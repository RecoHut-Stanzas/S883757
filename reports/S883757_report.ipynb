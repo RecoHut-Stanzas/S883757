{
  "cells": [
    {
      "cell_type": "markdown",
      "source": [
        "# OLX Job Recommender\n",
        "\n",
        "## OLX Job Dataset\n",
        "\n",
        "*OLX job interactions* contains 65 million users' events regarding online jobs postings. These 65 million events made on [http://olx.pl/praca](http://olx.pl/praca) by 3 million users who interacted with 185.4 K job ads in 2 weeks of 2020.\n",
        "\n",
        "## Process flow\n",
        "\n",
        "[direct link to notebook →](https://github.com/RecoHut-Stanzas/S883757/blob/main/nbs/P245068_OLX_Job_Recommendations_using_LightFM_SLIM_ALS_and_baseline_models.ipynb)\n",
        "\n",
        "![https://github.com/RecoHut-Stanzas/S883757/raw/main/images/process_flow.svg](https://github.com/RecoHut-Stanzas/S883757/raw/main/images/process_flow.svg)\n",
        "\n",
        "## References\n",
        "\n",
        "1. [https://github.com/RecoHut-Stanzas/S883757](https://github.com/RecoHut-Stanzas/S883757)\n",
        "2. [https://github.com/rob-kwiec/olx-jobs-recommendations](https://github.com/rob-kwiec/olx-jobs-recommendations)"
      ],
      "metadata": {
        "id": "lIYdn1woOS1n"
      }
    }
  ],
  "metadata": {
    "colab": {
      "name": "scratchpad",
      "provenance": []
    },
    "kernelspec": {
      "display_name": "Python 3",
      "name": "python3"
    }
  },
  "nbformat": 4,
  "nbformat_minor": 0
}